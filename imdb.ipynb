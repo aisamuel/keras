{
  "nbformat": 4,
  "nbformat_minor": 0,
  "metadata": {
    "colab": {
      "name": "imdb.ipynb",
      "provenance": [],
      "collapsed_sections": [],
      "authorship_tag": "ABX9TyNCltqxJqG62iH89rQLms1P",
      "include_colab_link": true
    },
    "kernelspec": {
      "name": "python3",
      "display_name": "Python 3"
    },
    "accelerator": "GPU"
  },
  "cells": [
    {
      "cell_type": "markdown",
      "metadata": {
        "id": "view-in-github",
        "colab_type": "text"
      },
      "source": [
        "<a href=\"https://colab.research.google.com/github/aisamuel/keras/blob/master/imdb.ipynb\" target=\"_parent\"><img src=\"https://colab.research.google.com/assets/colab-badge.svg\" alt=\"Open In Colab\"/></a>"
      ]
    },
    {
      "cell_type": "markdown",
      "metadata": {
        "id": "iOQltyqgXKds",
        "colab_type": "text"
      },
      "source": [
        ""
      ]
    },
    {
      "cell_type": "code",
      "metadata": {
        "id": "sOUuFqY7Wtrl",
        "colab_type": "code",
        "colab": {}
      },
      "source": [
        "!pip install -q keras"
      ],
      "execution_count": 0,
      "outputs": []
    },
    {
      "cell_type": "markdown",
      "metadata": {
        "id": "e27XIi6aXXaH",
        "colab_type": "text"
      },
      "source": [
        ""
      ]
    },
    {
      "cell_type": "code",
      "metadata": {
        "id": "P5nw3iYDXb6L",
        "colab_type": "code",
        "colab": {}
      },
      "source": [
        "from keras.datasets import imdb"
      ],
      "execution_count": 0,
      "outputs": []
    },
    {
      "cell_type": "code",
      "metadata": {
        "id": "PN2uXB6JXk8i",
        "colab_type": "code",
        "colab": {
          "base_uri": "https://localhost:8080/",
          "height": 51
        },
        "outputId": "494e1859-c17f-4660-92ed-5d541d6ef2c2"
      },
      "source": [
        "(train_data, train_labels), (test_data, test_labels) = imdb.load_data(\n",
        "num_words=10000)"
      ],
      "execution_count": 5,
      "outputs": [
        {
          "output_type": "stream",
          "text": [
            "Downloading data from https://s3.amazonaws.com/text-datasets/imdb.npz\n",
            "17465344/17464789 [==============================] - 2s 0us/step\n"
          ],
          "name": "stdout"
        }
      ]
    },
    {
      "cell_type": "code",
      "metadata": {
        "id": "eEzHItO9Yr0k",
        "colab_type": "code",
        "colab": {}
      },
      "source": [
        "word_index = imdb.get_word_index()\n",
        "reverse_word_index = dict(\n",
        "[(value, key) for (key, value) in word_index.items()])\n",
        "decoded_review = ' '.join(\n",
        "[reverse_word_index.get(i - 3, '?') for i in train_data[0]])"
      ],
      "execution_count": 0,
      "outputs": []
    },
    {
      "cell_type": "code",
      "metadata": {
        "id": "mgE3toyKYwtg",
        "colab_type": "code",
        "colab": {}
      },
      "source": [
        "import numpy as np\n",
        "def vectorize_sequences(sequences, dimension=10000):\n",
        "    results = np.zeros((len(sequences), dimension))\n",
        "    for i, sequence in enumerate(sequences):\n",
        "      results[i, sequence] = 1.\n",
        "    return results\n",
        "x_train = vectorize_sequences(train_data)\n",
        "x_test = vectorize_sequences(test_data)"
      ],
      "execution_count": 0,
      "outputs": []
    },
    {
      "cell_type": "code",
      "metadata": {
        "id": "1mtk5yZNZBXH",
        "colab_type": "code",
        "colab": {}
      },
      "source": [
        "y_train = np.asarray(train_labels).astype('float32')\n",
        "y_test = np.asarray(test_labels).astype('float32')"
      ],
      "execution_count": 0,
      "outputs": []
    },
    {
      "cell_type": "code",
      "metadata": {
        "id": "3R5_G3ZfZSr1",
        "colab_type": "code",
        "colab": {}
      },
      "source": [
        "from keras import models\n",
        "from keras import layers\n",
        "model = models.Sequential()\n",
        "model.add(layers.Dense(16, activation='relu', input_shape=(10000,)))\n",
        "model.add(layers.Dense(16, activation='relu'))\n",
        "model.add(layers.Dense(1, activation='sigmoid'))"
      ],
      "execution_count": 0,
      "outputs": []
    },
    {
      "cell_type": "code",
      "metadata": {
        "id": "6jZ6ezGqZbk_",
        "colab_type": "code",
        "colab": {}
      },
      "source": [
        "model.compile(optimizer='rmsprop',\n",
        "loss='binary_crossentropy',\n",
        "metrics=['acc'])"
      ],
      "execution_count": 0,
      "outputs": []
    },
    {
      "cell_type": "code",
      "metadata": {
        "id": "tNXDaeInZ4DF",
        "colab_type": "code",
        "colab": {}
      },
      "source": [
        "x_val = x_train[:10000]\n",
        "partial_x_train = x_train[10000:]"
      ],
      "execution_count": 0,
      "outputs": []
    },
    {
      "cell_type": "code",
      "metadata": {
        "id": "As3tGoCKaqpM",
        "colab_type": "code",
        "colab": {}
      },
      "source": [
        "y_val = y_train[:10000]\n",
        "partial_y_train = y_train[10000:]"
      ],
      "execution_count": 0,
      "outputs": []
    },
    {
      "cell_type": "code",
      "metadata": {
        "id": "1c59dZCnb3TN",
        "colab_type": "code",
        "colab": {
          "base_uri": "https://localhost:8080/",
          "height": 714
        },
        "outputId": "1f184c89-69df-4553-cf75-0e68d3b96c67"
      },
      "source": [
        "history = model.fit(partial_x_train,\n",
        "                    partial_y_train,\n",
        "                    epochs=20,\n",
        "                    batch_size=512,\n",
        "                    validation_data=(x_val, y_val))"
      ],
      "execution_count": 69,
      "outputs": [
        {
          "output_type": "stream",
          "text": [
            "Train on 15000 samples, validate on 10000 samples\n",
            "Epoch 1/20\n",
            "15000/15000 [==============================] - 1s 91us/step - loss: 0.5180 - acc: 0.7999 - val_loss: 0.3964 - val_acc: 0.8657\n",
            "Epoch 2/20\n",
            "15000/15000 [==============================] - 1s 84us/step - loss: 0.3165 - acc: 0.8999 - val_loss: 0.3183 - val_acc: 0.8827\n",
            "Epoch 3/20\n",
            "15000/15000 [==============================] - 1s 84us/step - loss: 0.2341 - acc: 0.9236 - val_loss: 0.2823 - val_acc: 0.8904\n",
            "Epoch 4/20\n",
            "15000/15000 [==============================] - 1s 81us/step - loss: 0.1841 - acc: 0.9409 - val_loss: 0.2801 - val_acc: 0.8880\n",
            "Epoch 5/20\n",
            "15000/15000 [==============================] - 1s 81us/step - loss: 0.1494 - acc: 0.9527 - val_loss: 0.3575 - val_acc: 0.8570\n",
            "Epoch 6/20\n",
            "15000/15000 [==============================] - 1s 81us/step - loss: 0.1242 - acc: 0.9614 - val_loss: 0.2853 - val_acc: 0.8870\n",
            "Epoch 7/20\n",
            "15000/15000 [==============================] - 1s 82us/step - loss: 0.1027 - acc: 0.9703 - val_loss: 0.3041 - val_acc: 0.8831\n",
            "Epoch 8/20\n",
            "15000/15000 [==============================] - 1s 83us/step - loss: 0.0837 - acc: 0.9762 - val_loss: 0.3584 - val_acc: 0.8736\n",
            "Epoch 9/20\n",
            "15000/15000 [==============================] - 1s 81us/step - loss: 0.0689 - acc: 0.9819 - val_loss: 0.3778 - val_acc: 0.8718\n",
            "Epoch 10/20\n",
            "15000/15000 [==============================] - 1s 81us/step - loss: 0.0577 - acc: 0.9854 - val_loss: 0.3701 - val_acc: 0.8761\n",
            "Epoch 11/20\n",
            "15000/15000 [==============================] - 1s 81us/step - loss: 0.0460 - acc: 0.9899 - val_loss: 0.3845 - val_acc: 0.8794\n",
            "Epoch 12/20\n",
            "15000/15000 [==============================] - 1s 80us/step - loss: 0.0383 - acc: 0.9913 - val_loss: 0.4478 - val_acc: 0.8670\n",
            "Epoch 13/20\n",
            "15000/15000 [==============================] - 1s 80us/step - loss: 0.0291 - acc: 0.9944 - val_loss: 0.4716 - val_acc: 0.8651\n",
            "Epoch 14/20\n",
            "15000/15000 [==============================] - 1s 81us/step - loss: 0.0220 - acc: 0.9968 - val_loss: 0.4985 - val_acc: 0.8646\n",
            "Epoch 15/20\n",
            "15000/15000 [==============================] - 1s 80us/step - loss: 0.0184 - acc: 0.9974 - val_loss: 0.4977 - val_acc: 0.8726\n",
            "Epoch 16/20\n",
            "15000/15000 [==============================] - 1s 81us/step - loss: 0.0139 - acc: 0.9989 - val_loss: 0.5348 - val_acc: 0.8686\n",
            "Epoch 17/20\n",
            "15000/15000 [==============================] - 1s 82us/step - loss: 0.0104 - acc: 0.9992 - val_loss: 0.5639 - val_acc: 0.8705\n",
            "Epoch 18/20\n",
            "15000/15000 [==============================] - 1s 81us/step - loss: 0.0087 - acc: 0.9992 - val_loss: 0.5971 - val_acc: 0.8700\n",
            "Epoch 19/20\n",
            "15000/15000 [==============================] - 1s 81us/step - loss: 0.0047 - acc: 0.9999 - val_loss: 0.6413 - val_acc: 0.8683\n",
            "Epoch 20/20\n",
            "15000/15000 [==============================] - 1s 80us/step - loss: 0.0063 - acc: 0.9993 - val_loss: 0.6708 - val_acc: 0.8688\n"
          ],
          "name": "stdout"
        }
      ]
    },
    {
      "cell_type": "code",
      "metadata": {
        "id": "1-TfOpzrcZiG",
        "colab_type": "code",
        "colab": {
          "base_uri": "https://localhost:8080/",
          "height": 34
        },
        "outputId": "8006f727-ae39-4bca-c1a2-c89ff25bde30"
      },
      "source": [
        "history_dict = history.history\n",
        "history_dict.keys()"
      ],
      "execution_count": 70,
      "outputs": [
        {
          "output_type": "execute_result",
          "data": {
            "text/plain": [
              "dict_keys(['val_loss', 'val_acc', 'loss', 'acc'])"
            ]
          },
          "metadata": {
            "tags": []
          },
          "execution_count": 70
        }
      ]
    },
    {
      "cell_type": "code",
      "metadata": {
        "id": "V-i4a_7Mcqj0",
        "colab_type": "code",
        "colab": {
          "base_uri": "https://localhost:8080/",
          "height": 295
        },
        "outputId": "d5a544f9-d639-41a6-cc49-d179d0b40ec4"
      },
      "source": [
        "import matplotlib.pyplot as plt\n",
        "\n",
        "history_dict = history.history\n",
        "loss_values = history_dict['loss']\n",
        "val_loss_values = history_dict['val_loss']\n",
        "acc = history.history['acc']\n",
        "\n",
        "epochs = range(1, len(acc) + 1)\n",
        "plt.plot(epochs, loss_values, 'bo', label='Training loss')\n",
        "plt.plot(epochs, val_loss_values, 'b', label = 'Validation loss')\n",
        "plt.title('Training and validation loss')\n",
        "plt.xlabel('Epochs')\n",
        "plt.ylabel('Loss')\n",
        "plt.legend()\n",
        "\n",
        "plt.show()"
      ],
      "execution_count": 71,
      "outputs": [
        {
          "output_type": "display_data",
          "data": {
            "image/png": "[encoded data removed]",
            "text/plain": [
              "<Figure size 432x288 with 1 Axes>"
            ]
          },
          "metadata": {
            "tags": [],
            "needs_background": "light"
          }
        }
      ]
    },
    {
      "cell_type": "code",
      "metadata": {
        "id": "sI7bajQ1gv_K",
        "colab_type": "code",
        "colab": {
          "base_uri": "https://localhost:8080/",
          "height": 295
        },
        "outputId": "3a85cbe8-1fd5-4f38-a198-7d35d1b0e597"
      },
      "source": [
        "plt.clf()\n",
        "acc_values = history_dict['acc']\n",
        "val_acc_values = history_dict['val_acc']\n",
        "val_acc = history.history['val_acc']\n",
        "plt.plot(epochs, acc, 'bo', label='Training acc')\n",
        "plt.plot(epochs, val_acc, 'b', label='Validation acc')\n",
        "plt.title('Training and validation accuracy')\n",
        "plt.xlabel('Epochs')\n",
        "plt.ylabel('Loss')\n",
        "plt.legend()\n",
        "\n",
        "plt.show()"
      ],
      "execution_count": 72,
      "outputs": [
        {
          "output_type": "display_data",
          "data": {
            "image/png": "[encoded data removed]",
            "text/plain": [
              "<Figure size 432x288 with 1 Axes>"
            ]
          },
          "metadata": {
            "tags": [],
            "needs_background": "light"
          }
        }
      ]
    },
    {
      "cell_type": "code",
      "metadata": {
        "id": "aUdt_LbknacT",
        "colab_type": "code",
        "colab": {
          "base_uri": "https://localhost:8080/",
          "height": 34
        },
        "outputId": "b3de7f67-c617-4469-dff1-b0268637ea4f"
      },
      "source": [
        "results = model.evaluate(x_test, y_test)"
      ],
      "execution_count": 73,
      "outputs": [
        {
          "output_type": "stream",
          "text": [
            "25000/25000 [==============================] - 2s 91us/step\n"
          ],
          "name": "stdout"
        }
      ]
    },
    {
      "cell_type": "code",
      "metadata": {
        "id": "GeEGB11fneYd",
        "colab_type": "code",
        "colab": {
          "base_uri": "https://localhost:8080/",
          "height": 34
        },
        "outputId": "193d4e10-5879-44c3-deaf-bceba4c2dfea"
      },
      "source": [
        "results"
      ],
      "execution_count": 74,
      "outputs": [
        {
          "output_type": "execute_result",
          "data": {
            "text/plain": [
              "[0.7243528105950355, 0.8533599972724915]"
            ]
          },
          "metadata": {
            "tags": []
          },
          "execution_count": 74
        }
      ]
    },
    {
      "cell_type": "code",
      "metadata": {
        "id": "NBvlne4onjnn",
        "colab_type": "code",
        "colab": {
          "base_uri": "https://localhost:8080/",
          "height": 136
        },
        "outputId": "9905270d-e243-4e7e-edf9-4487e3050bd2"
      },
      "source": [
        "model.predict(x_test)"
      ],
      "execution_count": 75,
      "outputs": [
        {
          "output_type": "execute_result",
          "data": {
            "text/plain": [
              "array([[0.00610176],\n",
              "       [1.        ],\n",
              "       [0.95098335],\n",
              "       ...,\n",
              "       [0.00316485],\n",
              "       [0.0048713 ],\n",
              "       [0.7452395 ]], dtype=float32)"
            ]
          },
          "metadata": {
            "tags": []
          },
          "execution_count": 75
        }
      ]
    },
    {
      "cell_type": "code",
      "metadata": {
        "id": "-U1bOwh4nrox",
        "colab_type": "code",
        "colab": {
          "base_uri": "https://localhost:8080/",
          "height": 34
        },
        "outputId": "4b3ca602-ed80-4c69-8ff6-761273af25dd"
      },
      "source": [
        "y_test"
      ],
      "execution_count": 76,
      "outputs": [
        {
          "output_type": "execute_result",
          "data": {
            "text/plain": [
              "array([0., 1., 1., ..., 0., 0., 0.], dtype=float32)"
            ]
          },
          "metadata": {
            "tags": []
          },
          "execution_count": 76
        }
      ]
    },
    {
      "cell_type": "code",
      "metadata": {
        "id": "EjCY5Q3qiflk",
        "colab_type": "code",
        "colab": {}
      },
      "source": [
        "model = models.Sequential()\n",
        "model.add(layers.Dense(16, activation='relu', input_shape=(10000,)))\n",
        "model.add(layers.Dense(16, activation='relu'))\n",
        "model.add(layers.Dense(1, activation='sigmoid'))"
      ],
      "execution_count": 0,
      "outputs": []
    },
    {
      "cell_type": "code",
      "metadata": {
        "id": "Syx4Nhavi6fH",
        "colab_type": "code",
        "colab": {}
      },
      "source": [
        "model.compile(optimizer='rmsprop',\n",
        "loss='binary_crossentropy',\n",
        "metrics=['accuracy'])"
      ],
      "execution_count": 0,
      "outputs": []
    },
    {
      "cell_type": "code",
      "metadata": {
        "id": "Qy7sTVthi9L4",
        "colab_type": "code",
        "colab": {
          "base_uri": "https://localhost:8080/",
          "height": 170
        },
        "outputId": "69f3e50d-0193-4e47-a260-9f9a12318efe"
      },
      "source": [
        "model.fit(x_train, y_train, epochs=4, batch_size=512)"
      ],
      "execution_count": 79,
      "outputs": [
        {
          "output_type": "stream",
          "text": [
            "Epoch 1/4\n",
            "25000/25000 [==============================] - 1s 55us/step - loss: 0.4981 - accuracy: 0.8196\n",
            "Epoch 2/4\n",
            "25000/25000 [==============================] - 1s 51us/step - loss: 0.2876 - accuracy: 0.9043\n",
            "Epoch 3/4\n",
            "25000/25000 [==============================] - 1s 51us/step - loss: 0.2156 - accuracy: 0.9242\n",
            "Epoch 4/4\n",
            "25000/25000 [==============================] - 1s 52us/step - loss: 0.1788 - accuracy: 0.9370\n"
          ],
          "name": "stdout"
        },
        {
          "output_type": "execute_result",
          "data": {
            "text/plain": [
              "<keras.callbacks.callbacks.History at 0x7f153787f438>"
            ]
          },
          "metadata": {
            "tags": []
          },
          "execution_count": 79
        }
      ]
    },
    {
      "cell_type": "code",
      "metadata": {
        "id": "mIvnGzcJjMiJ",
        "colab_type": "code",
        "colab": {
          "base_uri": "https://localhost:8080/",
          "height": 34
        },
        "outputId": "9addf444-9a2d-46ca-c230-3bb54b8e388d"
      },
      "source": [
        "results = model.evaluate(x_test, y_test)"
      ],
      "execution_count": 80,
      "outputs": [
        {
          "output_type": "stream",
          "text": [
            "25000/25000 [==============================] - 2s 92us/step\n"
          ],
          "name": "stdout"
        }
      ]
    },
    {
      "cell_type": "code",
      "metadata": {
        "id": "qzaXaq_6nYdz",
        "colab_type": "code",
        "colab": {}
      },
      "source": [
        ""
      ],
      "execution_count": 0,
      "outputs": []
    },
    {
      "cell_type": "code",
      "metadata": {
        "id": "yA2MVUepjPpW",
        "colab_type": "code",
        "colab": {
          "base_uri": "https://localhost:8080/",
          "height": 34
        },
        "outputId": "9cf4a49d-9cb0-4f78-d2f2-9a634e7a0598"
      },
      "source": [
        "results"
      ],
      "execution_count": 81,
      "outputs": [
        {
          "output_type": "execute_result",
          "data": {
            "text/plain": [
              "[0.28483778665542603, 0.8878399729728699]"
            ]
          },
          "metadata": {
            "tags": []
          },
          "execution_count": 81
        }
      ]
    },
    {
      "cell_type": "code",
      "metadata": {
        "id": "TPxbjEoijgXg",
        "colab_type": "code",
        "colab": {
          "base_uri": "https://localhost:8080/",
          "height": 136
        },
        "outputId": "60f569cf-396c-4a64-b029-21a5ba5dec4a"
      },
      "source": [
        "model.predict(x_test)"
      ],
      "execution_count": 82,
      "outputs": [
        {
          "output_type": "execute_result",
          "data": {
            "text/plain": [
              "array([[0.21588315],\n",
              "       [0.999874  ],\n",
              "       [0.91922736],\n",
              "       ...,\n",
              "       [0.13064617],\n",
              "       [0.10665707],\n",
              "       [0.6518805 ]], dtype=float32)"
            ]
          },
          "metadata": {
            "tags": []
          },
          "execution_count": 82
        }
      ]
    },
    {
      "cell_type": "code",
      "metadata": {
        "id": "wMVlXX9DjrSP",
        "colab_type": "code",
        "colab": {
          "base_uri": "https://localhost:8080/",
          "height": 34
        },
        "outputId": "803e07b0-82b9-4bc6-c243-52c9ded82559"
      },
      "source": [
        "y_test"
      ],
      "execution_count": 60,
      "outputs": [
        {
          "output_type": "execute_result",
          "data": {
            "text/plain": [
              "array([0., 1., 1., ..., 0., 0., 0.], dtype=float32)"
            ]
          },
          "metadata": {
            "tags": []
          },
          "execution_count": 60
        }
      ]
    },
    {
      "cell_type": "code",
      "metadata": {
        "id": "51uAf26Wl3ZY",
        "colab_type": "code",
        "colab": {
          "base_uri": "https://localhost:8080/",
          "height": 187
        },
        "outputId": "837968e9-cc00-4454-d175-8b8c17aec5a0"
      },
      "source": [
        "model.predict(x_test[:10])"
      ],
      "execution_count": 63,
      "outputs": [
        {
          "output_type": "execute_result",
          "data": {
            "text/plain": [
              "array([[5.5306493e-03],\n",
              "       [1.0000000e+00],\n",
              "       [1.0000000e+00],\n",
              "       [9.9991226e-01],\n",
              "       [9.9990225e-01],\n",
              "       [9.9963272e-01],\n",
              "       [1.0000000e+00],\n",
              "       [6.9670096e-09],\n",
              "       [9.9998844e-01],\n",
              "       [1.0000000e+00]], dtype=float32)"
            ]
          },
          "metadata": {
            "tags": []
          },
          "execution_count": 63
        }
      ]
    },
    {
      "cell_type": "code",
      "metadata": {
        "id": "WcefnH-xmZJC",
        "colab_type": "code",
        "colab": {
          "base_uri": "https://localhost:8080/",
          "height": 34
        },
        "outputId": "51d0054f-6303-4711-dd5b-1da8c3793f13"
      },
      "source": [
        "y_test[:10]"
      ],
      "execution_count": 64,
      "outputs": [
        {
          "output_type": "execute_result",
          "data": {
            "text/plain": [
              "array([0., 1., 1., 0., 1., 1., 1., 0., 0., 1.], dtype=float32)"
            ]
          },
          "metadata": {
            "tags": []
          },
          "execution_count": 64
        }
      ]
    },
    {
      "cell_type": "code",
      "metadata": {
        "id": "7yF0VWJNlwpg",
        "colab_type": "code",
        "colab": {
          "base_uri": "https://localhost:8080/",
          "height": 163
        },
        "outputId": "9cacc946-4f64-4af5-aeab-173d641b21d0"
      },
      "source": [
        ""
      ],
      "execution_count": 62,
      "outputs": [
        {
          "output_type": "error",
          "ename": "AttributeError",
          "evalue": "ignored",
          "traceback": [
            "\u001b[0;31m---------------------------------------------------------------------------\u001b[0m",
            "\u001b[0;31mAttributeError\u001b[0m                            Traceback (most recent call last)",
            "\u001b[0;32m<ipython-input-62-a238dd3b274e>\u001b[0m in \u001b[0;36m<module>\u001b[0;34m()\u001b[0m\n\u001b[0;32m----> 1\u001b[0;31m \u001b[0mresults\u001b[0m\u001b[0;34m.\u001b[0m\u001b[0mkeys\u001b[0m\u001b[0;34m(\u001b[0m\u001b[0;34m)\u001b[0m\u001b[0;34m\u001b[0m\u001b[0;34m\u001b[0m\u001b[0m\n\u001b[0m",
            "\u001b[0;31mAttributeError\u001b[0m: 'list' object has no attribute 'keys'"
          ]
        }
      ]
    }
  ]
}